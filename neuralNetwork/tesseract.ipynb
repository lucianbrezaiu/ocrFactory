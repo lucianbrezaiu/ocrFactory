{
 "cells": [
  {
   "cell_type": "code",
   "execution_count": 116,
   "metadata": {},
   "outputs": [],
   "source": [
    "from PIL import Image\n",
    "import PIL.ImageOps as POPS\n",
    "import pytesseract\n",
    "import numpy as np\n",
    "import cv2\n",
    "import glob"
   ]
  },
  {
   "cell_type": "code",
   "execution_count": 117,
   "metadata": {},
   "outputs": [
    {
     "name": "stdout",
     "output_type": "stream",
     "text": [
      "Console.ReadKey();\n",
      "\n",
      "Atunci cand se modifica o proprietate de tip referinté a unei clonei binare se modifica si proprietatea\n",
      "prototipului. Acest lucru nu se intampla in cazul unei clone profunde.\n",
      "\n",
      "Prototype si Factory method\n",
      "\n",
      "Sablonul Prototype seamana foarte mult cu sablonul Factory method. Diferenta consta in factul ca factory\n",
      "method este restrictionat sa creeze obiecte, care mostenesc dintr-o singura interfata predefinita, dar nu\n",
      "necesita o operatie de initializare. Sablonul prototype ofera o flexibilitate sporita, deoarece permite crearea\n",
      "oricarui fel de obiect, care implementeaza interfata IPrototype, dar implica si 0 operatie de initializare.\n",
      "\n",
      "Object pool\n",
      "\n",
      "Perfomanta uneori poate fi extrem de importanta si crearea obiectelor care necesita resurse semnificative\n",
      "are un rol determinant. Sablonul Prototype imbunatateste performanta prin clonare, iar sablonul Object pool\n",
      "o imbunatateste prin reutilizarea obiectelor.\n",
      "\n",
      "Scopul\n",
      "\n",
      "Refolosirea si partajarea unei colectii de obiecte a caror creare este foarte costisitoare.\n",
      "\n",
      "Problema\n"
     ]
    }
   ],
   "source": [
    "pytesseract.pytesseract.tesseract_cmd = 'C:/Program Files/Tesseract-OCR/tesseract.exe'\n",
    "im = Image.open('E:/LICENTA/dllBuilder/input/4.png')\n",
    "text = pytesseract.image_to_string(im,lang = 'eng')\n",
    "print(text)"
   ]
  },
  {
   "cell_type": "code",
   "execution_count": 143,
   "metadata": {},
   "outputs": [],
   "source": [
    "def border(image):\n",
    "    return POPS.expand(image, border = 15, fill='white')\n",
    "\n",
    "def getImages():\n",
    "    filenames = [filename for filename in glob.glob('E:/LICENTA/dllBuilder/output/step4/*.png')]\n",
    "    images = []\n",
    "    for filename in filenames:\n",
    "        image = Image.open(filename)\n",
    "        image = POPS.invert(image)\n",
    "        image = border(image)\n",
    "        images.append(image)\n",
    "    return images\n",
    "\n",
    "def recognize(image):\n",
    "    return pytesseract.image_to_string(image,lang = 'eng',config='--psm 10')"
   ]
  },
  {
   "cell_type": "code",
   "execution_count": 144,
   "metadata": {},
   "outputs": [
    {
     "name": "stdout",
     "output_type": "stream",
     "text": [
      "Nota: Parola de acces pentru ghidul de activare transmis pe email este formata din ultimele 9 cifre ale numarului de telefon asociat contului tau de internet & Mobile Banking 5 hide activareeToken Iti multumim ca ai ales sa folosesti eToken! Pentru utilizarea eToken este necesara parcurgerea urmatorilor pasi: Pasul 1. Descarcarea si instalarea aplicatiei pe telefonul tau mobil cautand “eTokenBCR” in AppStore, GooglePlay __ sau Windows Store. Aplicatia eToken este disponibila pentru telefoanele mobile cu sistem de operare iOS, Android . \" siWindows phone 8. Pasul 2 Activarea eToken pentru Brezaiu Lucian se face utiizand datele de maijos: - SeriaeToken = FOSS \". Coddeautorizare 533583. Codul de activare necesar finalizarii procesului de activare a fost transmis automat prin SMS la numarul tau de telefon 0727407244 inregistrat in sister, Important! Te rugam sa pastrezi acest document deoarece contine datele necesare reinstalarii aplicatie. «= Daca nu activezi seria eToken timp de 6 luni, aceasta va fi automat anulata din contul tau, iar pentru a putea utiliza aplicatia eToken vei avea nevoie de un alt set de date de activare pentru care va trebui sa te prezinti in orice sucursala BCR, Pentru mai multe detalii acceseaza www.ber.ro sau suna gratuit la 0800.801.227 sau la +40 21 4074200 pentru apelur Internationale, Note: The password for the eToken activation guide sent by email consists of the last 9 digits of the phone number associated ___ with your Internet & Mobile Banking account! -  eToken activation guide Thank you for choosing eToken! In order to use eToken please follow these steps: Step 1 Download and install the application on your mobile phone searching for “eTokenBCR” in AppStore, GooglePlay or Windows Store. eToken application is available for 10S, Android and Windows phone 8 operating system phones, Step 2 eToken activation for Brezaiu Lucian is made using the following codes: | etoken serial = FDO9S60370 Authorization code 533583 00 The activation code required to complete the activation process is automatically sent via SMS to your phone - number 0727407244 which is registered inthe system. Important! Please keep this document as it contains details which are necessary when reinstalling the application. - {ff you do not activate the eToken serial number within 6 months, it will automatically be deallocated from your account and you will need a new set of activation details, which can be obtained from any BCR office, inorderto use the application, For any additional information please visit www.ber.ro or call 0800.801.227(toll free) or +40 21 4074200 for | international calls. sis \n"
     ]
    }
   ],
   "source": [
    "text = \"\"\n",
    "for image in getImages():\n",
    "    text = text + recognize(image) + \" \"\n",
    "print(text)\n"
   ]
  },
  {
   "cell_type": "code",
   "execution_count": 146,
   "metadata": {},
   "outputs": [
    {
     "data": {
      "image/png": "[encoded data removed]",
      "text/plain": [
       "<PIL.Image.Image image mode=L size=1905x104 at 0x1B3E1FF4F28>"
      ]
     },
     "execution_count": 146,
     "metadata": {},
     "output_type": "execute_result"
    }
   ],
   "source": [
    "getImages()[17]"
   ]
  },
  {
   "cell_type": "code",
   "execution_count": null,
   "metadata": {},
   "outputs": [],
   "source": []
  }
 ],
 "metadata": {
  "kernelspec": {
   "display_name": "Python 3",
   "language": "python",
   "name": "python3"
  },
  "language_info": {
   "codemirror_mode": {
    "name": "ipython",
    "version": 3
   },
   "file_extension": ".py",
   "mimetype": "text/x-python",
   "name": "python",
   "nbconvert_exporter": "python",
   "pygments_lexer": "ipython3",
   "version": "3.7.2"
  }
 },
 "nbformat": 4,
 "nbformat_minor": 2
}
