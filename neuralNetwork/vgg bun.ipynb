{
 "cells": [
  {
   "cell_type": "code",
   "execution_count": 1,
   "metadata": {},
   "outputs": [
    {
     "name": "stderr",
     "output_type": "stream",
     "text": [
      "Using TensorFlow backend.\n"
     ]
    }
   ],
   "source": [
    "import numpy as np\n",
    "import keras\n",
    "from keras import backend as K\n",
    "from keras.utils import to_categorical\n",
    "from keras.models import Sequential,Model\n",
    "from keras.layers import Input,Activation\n",
    "from keras.layers.core import Dense, Flatten\n",
    "from keras.optimizers import Adam\n",
    "from keras. metrics import categorical_crossentropy\n",
    "from keras.preprocessing.image import ImageDataGenerator\n",
    "from keras.layers.normalization import BatchNormalization\n",
    "from keras.layers.convolutional import *\n",
    "from matplotlib import pyplot as plt\n",
    "import itertools\n",
    "%matplotlib inline"
   ]
  },
  {
   "cell_type": "markdown",
   "metadata": {},
   "source": [
    "# Load data"
   ]
  },
  {
   "cell_type": "code",
   "execution_count": 2,
   "metadata": {},
   "outputs": [],
   "source": [
    "_classes = [\n",
    "    'Sample001',\n",
    "    'Sample002',\n",
    "    'Sample003',\n",
    "    'Sample004',\n",
    "    'Sample005',\n",
    "    'Sample006',\n",
    "    'Sample007',\n",
    "    'Sample008',\n",
    "    'Sample009',\n",
    "    'Sample010',\n",
    "    'Sample011',\n",
    "    'Sample012',\n",
    "    'Sample013',\n",
    "    'Sample014',\n",
    "    'Sample015',\n",
    "    'Sample016',\n",
    "    'Sample017',\n",
    "    'Sample018',\n",
    "    'Sample019',\n",
    "    'Sample020',\n",
    "    'Sample021',\n",
    "    'Sample022',\n",
    "    'Sample023',\n",
    "    'Sample024',\n",
    "    'Sample025',\n",
    "    'Sample026',\n",
    "    'Sample027',\n",
    "    'Sample028',\n",
    "    'Sample029',\n",
    "    'Sample030',\n",
    "    'Sample031',\n",
    "    'Sample032',\n",
    "    'Sample033',\n",
    "    'Sample034',\n",
    "    'Sample035',\n",
    "    'Sample036',\n",
    "    'Sample037',\n",
    "    'Sample038',\n",
    "    'Sample039',\n",
    "    'Sample040',\n",
    "    'Sample041',\n",
    "    'Sample042',\n",
    "    'Sample043',\n",
    "    'Sample044',\n",
    "    'Sample045',\n",
    "    'Sample046',\n",
    "    'Sample047',\n",
    "    'Sample048',\n",
    "    'Sample049',\n",
    "    'Sample050',\n",
    "    'Sample051',\n",
    "    'Sample052',\n",
    "    'Sample053',\n",
    "    'Sample054',\n",
    "    'Sample055',\n",
    "    'Sample056',\n",
    "    'Sample057',\n",
    "    'Sample058',\n",
    "    'Sample059',\n",
    "    'Sample060',\n",
    "    'Sample061',\n",
    "    'Sample062',\n",
    "]\n",
    "\n",
    "dictionary = {\n",
    "            0: '0',\n",
    "            1: '1',\n",
    "            2: '2',\n",
    "            3: '3',\n",
    "            4: '4',\n",
    "            5: '5',\n",
    "            6: '6',\n",
    "            7: '7',\n",
    "            8: '8',\n",
    "            9: '9',\n",
    "            10: 'A',\n",
    "            11: 'B',\n",
    "            12: 'C',\n",
    "            13: 'D',\n",
    "            14: 'E',\n",
    "            15: 'F',\n",
    "            16: 'G',\n",
    "            17: 'H',\n",
    "            18: 'I',\n",
    "            19: 'J',\n",
    "            20: 'K',\n",
    "            21: 'L',\n",
    "            22: 'M',\n",
    "            23: 'N',\n",
    "            24: 'O',\n",
    "            25: 'P',\n",
    "            26: 'Q',\n",
    "            27: 'R',\n",
    "            28: 'S',\n",
    "            29: 'T',\n",
    "            30: 'U',\n",
    "            31: 'V',\n",
    "            32: 'W',\n",
    "            33: 'X',\n",
    "            34: 'Y',\n",
    "            35: 'Z',\n",
    "            36: 'a',\n",
    "            37: 'b',\n",
    "            38: 'c',\n",
    "            39: 'd',\n",
    "            40: 'e',\n",
    "            41: 'f',\n",
    "            42: 'g',\n",
    "            43: 'h',\n",
    "            44: 'i',\n",
    "            45: 'j',\n",
    "            46: 'k',\n",
    "            47: 'l',\n",
    "            48: 'm',\n",
    "            49: 'n',\n",
    "            50: 'o',\n",
    "            51: 'p',\n",
    "            52: 'q',\n",
    "            53: 'r',\n",
    "            54: 's',\n",
    "            55: 't',\n",
    "            56: 'u',\n",
    "            57: 'v',\n",
    "            58: 'w',\n",
    "            59: 'x',\n",
    "            60: 'y',\n",
    "            61: 'z',\n",
    "        }"
   ]
  },
  {
   "cell_type": "code",
   "execution_count": 23,
   "metadata": {},
   "outputs": [
    {
     "name": "stdout",
     "output_type": "stream",
     "text": [
      "Found 55900 images belonging to 62 classes.\n",
      "Found 6100 images belonging to 62 classes.\n"
     ]
    }
   ],
   "source": [
    "trainPath = './trainingSet2/train'\n",
    "validPath = './trainingSet2/valid'\n",
    "trainBatches = ImageDataGenerator().flow_from_directory(trainPath, target_size=(28,28), classes=_classes,batch_size=100)\n",
    "validBatches = ImageDataGenerator().flow_from_directory(validPath, target_size=(28,28), classes=_classes,batch_size=100)"
   ]
  },
  {
   "cell_type": "code",
   "execution_count": 6,
   "metadata": {},
   "outputs": [],
   "source": [
    "def showImage(image,label):\n",
    "        plt.title('Label is {label}'.format(label=label))\n",
    "        plt.imshow(image, cmap=plt.cm.binary)\n",
    "        plt.show()"
   ]
  },
  {
   "cell_type": "code",
   "execution_count": 6,
   "metadata": {},
   "outputs": [],
   "source": [
    "imgs, labels = next(trainBatches)"
   ]
  },
  {
   "cell_type": "code",
   "execution_count": 7,
   "metadata": {},
   "outputs": [
    {
     "name": "stderr",
     "output_type": "stream",
     "text": [
      "Clipping input data to the valid range for imshow with RGB data ([0..1] for floats or [0..255] for integers).\n"
     ]
    },
    {
     "data": {
      "image/png": "[encoded data removed]",
      "text/plain": [
       "<Figure size 432x288 with 1 Axes>"
      ]
     },
     "metadata": {
      "needs_background": "light"
     },
     "output_type": "display_data"
    },
    {
     "name": "stderr",
     "output_type": "stream",
     "text": [
      "Clipping input data to the valid range for imshow with RGB data ([0..1] for floats or [0..255] for integers).\n"
     ]
    },
    {
     "data": {
      "image/png": "[encoded data removed]",
      "text/plain": [
       "<Figure size 432x288 with 1 Axes>"
      ]
     },
     "metadata": {
      "needs_background": "light"
     },
     "output_type": "display_data"
    },
    {
     "name": "stderr",
     "output_type": "stream",
     "text": [
      "Clipping input data to the valid range for imshow with RGB data ([0..1] for floats or [0..255] for integers).\n"
     ]
    },
    {
     "data": {
      "image/png": "[encoded data removed]",
      "text/plain": [
       "<Figure size 432x288 with 1 Axes>"
      ]
     },
     "metadata": {
      "needs_background": "light"
     },
     "output_type": "display_data"
    },
    {
     "name": "stderr",
     "output_type": "stream",
     "text": [
      "Clipping input data to the valid range for imshow with RGB data ([0..1] for floats or [0..255] for integers).\n"
     ]
    },
    {
     "data": {
      "image/png": "[encoded data removed]",
      "text/plain": [
       "<Figure size 432x288 with 1 Axes>"
      ]
     },
     "metadata": {
      "needs_background": "light"
     },
     "output_type": "display_data"
    },
    {
     "name": "stderr",
     "output_type": "stream",
     "text": [
      "Clipping input data to the valid range for imshow with RGB data ([0..1] for floats or [0..255] for integers).\n"
     ]
    },
    {
     "data": {
      "image/png": "[encoded data removed]",
      "text/plain": [
       "<Figure size 432x288 with 1 Axes>"
      ]
     },
     "metadata": {
      "needs_background": "light"
     },
     "output_type": "display_data"
    },
    {
     "name": "stderr",
     "output_type": "stream",
     "text": [
      "Clipping input data to the valid range for imshow with RGB data ([0..1] for floats or [0..255] for integers).\n"
     ]
    },
    {
     "data": {
      "image/png": "[encoded data removed]",
      "text/plain": [
       "<Figure size 432x288 with 1 Axes>"
      ]
     },
     "metadata": {
      "needs_background": "light"
     },
     "output_type": "display_data"
    },
    {
     "name": "stderr",
     "output_type": "stream",
     "text": [
      "Clipping input data to the valid range for imshow with RGB data ([0..1] for floats or [0..255] for integers).\n"
     ]
    },
    {
     "data": {
      "image/png": "[encoded data removed]",
      "text/plain": [
       "<Figure size 432x288 with 1 Axes>"
      ]
     },
     "metadata": {
      "needs_background": "light"
     },
     "output_type": "display_data"
    },
    {
     "name": "stderr",
     "output_type": "stream",
     "text": [
      "Clipping input data to the valid range for imshow with RGB data ([0..1] for floats or [0..255] for integers).\n"
     ]
    },
    {
     "data": {
      "image/png": "[encoded data removed]",
      "text/plain": [
       "<Figure size 432x288 with 1 Axes>"
      ]
     },
     "metadata": {
      "needs_background": "light"
     },
     "output_type": "display_data"
    },
    {
     "name": "stderr",
     "output_type": "stream",
     "text": [
      "Clipping input data to the valid range for imshow with RGB data ([0..1] for floats or [0..255] for integers).\n"
     ]
    },
    {
     "data": {
      "image/png": "[encoded data removed]",
      "text/plain": [
       "<Figure size 432x288 with 1 Axes>"
      ]
     },
     "metadata": {
      "needs_background": "light"
     },
     "output_type": "display_data"
    },
    {
     "name": "stderr",
     "output_type": "stream",
     "text": [
      "Clipping input data to the valid range for imshow with RGB data ([0..1] for floats or [0..255] for integers).\n"
     ]
    },
    {
     "data": {
      "image/png": "[encoded data removed]",
      "text/plain": [
       "<Figure size 432x288 with 1 Axes>"
      ]
     },
     "metadata": {
      "needs_background": "light"
     },
     "output_type": "display_data"
    }
   ],
   "source": [
    "for i in range (10):\n",
    "    char = dictionary[np.argmax(labels[i])]\n",
    "    showImage(imgs[i],char)"
   ]
  },
  {
   "cell_type": "markdown",
   "metadata": {},
   "source": [
    "# Load data x2"
   ]
  },
  {
   "cell_type": "code",
   "execution_count": 3,
   "metadata": {},
   "outputs": [],
   "source": [
    "import cv2\n",
    "from sklearn.utils import shuffle\n",
    "\n",
    "def loadTrainImage(path):\n",
    "        img = cv2.imread(path);\n",
    "        img = cv2.cvtColor(img, cv2.COLOR_BGR2GRAY)\n",
    "        img = 255 - img\n",
    "#         img = cv2.resize(img,(28,28))\n",
    "        img = keras.utils.normalize(img, axis=1)\n",
    "        return img\n",
    "    \n",
    "def loadTrainingSet():\n",
    "    x_train = []\n",
    "    y_train = []\n",
    "\n",
    "    for i in range(1,63):\n",
    "        folderName = \"Sample\"\n",
    "        nrFolder = \"\"\n",
    "        if i<=9:\n",
    "            nrFolder = \"00\"+str(i)\n",
    "        else:\n",
    "            nrFolder = \"0\"+str(i)\n",
    "        folderName = folderName + nrFolder   \n",
    "        for j in range(1,1017):\n",
    "            imageName = \"\";\n",
    "            if j<=9:\n",
    "                imageName = \"img\" + nrFolder + \"-0000\" + str(j)\n",
    "            elif j<=99:\n",
    "                imageName = \"img\" + nrFolder + \"-000\" + str(j)\n",
    "            elif j<=999:\n",
    "                imageName = \"img\" + nrFolder + \"-00\" + str(j)\n",
    "            else:\n",
    "                imageName = \"img\" + nrFolder + \"-0\" + str(j)\n",
    "\n",
    "            image = loadTrainImage(\"./trainingSet/\" + folderName + \"/\" + imageName + \".png\")\n",
    "            x_train.append(image)\n",
    "            y_train.append(i-1)\n",
    "        print(\"load '\", dictionary[i-1],\"' from \", folderName,\" ...\")\n",
    "\n",
    "    x_train = np.asarray(x_train)\n",
    "    \n",
    "    y_train = np.asarray(y_train)\n",
    "    \n",
    "    x_train,y_train = shuffle(x_train,y_train)\n",
    "    \n",
    "    y_train = to_categorical(y_train)\n",
    "    \n",
    "    return (x_train,y_train)"
   ]
  },
  {
   "cell_type": "code",
   "execution_count": 4,
   "metadata": {},
   "outputs": [
    {
     "name": "stdout",
     "output_type": "stream",
     "text": [
      "load ' 0 ' from  Sample001  ...\n",
      "load ' 1 ' from  Sample002  ...\n",
      "load ' 2 ' from  Sample003  ...\n",
      "load ' 3 ' from  Sample004  ...\n",
      "load ' 4 ' from  Sample005  ...\n",
      "load ' 5 ' from  Sample006  ...\n",
      "load ' 6 ' from  Sample007  ...\n",
      "load ' 7 ' from  Sample008  ...\n",
      "load ' 8 ' from  Sample009  ...\n",
      "load ' 9 ' from  Sample010  ...\n",
      "load ' A ' from  Sample011  ...\n",
      "load ' B ' from  Sample012  ...\n",
      "load ' C ' from  Sample013  ...\n",
      "load ' D ' from  Sample014  ...\n",
      "load ' E ' from  Sample015  ...\n",
      "load ' F ' from  Sample016  ...\n",
      "load ' G ' from  Sample017  ...\n",
      "load ' H ' from  Sample018  ...\n",
      "load ' I ' from  Sample019  ...\n",
      "load ' J ' from  Sample020  ...\n",
      "load ' K ' from  Sample021  ...\n",
      "load ' L ' from  Sample022  ...\n",
      "load ' M ' from  Sample023  ...\n",
      "load ' N ' from  Sample024  ...\n",
      "load ' O ' from  Sample025  ...\n",
      "load ' P ' from  Sample026  ...\n",
      "load ' Q ' from  Sample027  ...\n",
      "load ' R ' from  Sample028  ...\n",
      "load ' S ' from  Sample029  ...\n",
      "load ' T ' from  Sample030  ...\n",
      "load ' U ' from  Sample031  ...\n",
      "load ' V ' from  Sample032  ...\n",
      "load ' W ' from  Sample033  ...\n",
      "load ' X ' from  Sample034  ...\n",
      "load ' Y ' from  Sample035  ...\n",
      "load ' Z ' from  Sample036  ...\n",
      "load ' a ' from  Sample037  ...\n",
      "load ' b ' from  Sample038  ...\n",
      "load ' c ' from  Sample039  ...\n",
      "load ' d ' from  Sample040  ...\n",
      "load ' e ' from  Sample041  ...\n",
      "load ' f ' from  Sample042  ...\n",
      "load ' g ' from  Sample043  ...\n",
      "load ' h ' from  Sample044  ...\n",
      "load ' i ' from  Sample045  ...\n",
      "load ' j ' from  Sample046  ...\n",
      "load ' k ' from  Sample047  ...\n",
      "load ' l ' from  Sample048  ...\n",
      "load ' m ' from  Sample049  ...\n",
      "load ' n ' from  Sample050  ...\n",
      "load ' o ' from  Sample051  ...\n",
      "load ' p ' from  Sample052  ...\n",
      "load ' q ' from  Sample053  ...\n",
      "load ' r ' from  Sample054  ...\n",
      "load ' s ' from  Sample055  ...\n",
      "load ' t ' from  Sample056  ...\n",
      "load ' u ' from  Sample057  ...\n",
      "load ' v ' from  Sample058  ...\n",
      "load ' w ' from  Sample059  ...\n",
      "load ' x ' from  Sample060  ...\n",
      "load ' y ' from  Sample061  ...\n",
      "load ' z ' from  Sample062  ...\n"
     ]
    }
   ],
   "source": [
    "x_train, y_train = loadTrainingSet()"
   ]
  },
  {
   "cell_type": "code",
   "execution_count": 7,
   "metadata": {},
   "outputs": [
    {
     "data": {
      "image/png": "[encoded data removed]",
      "text/plain": [
       "<Figure size 432x288 with 1 Axes>"
      ]
     },
     "metadata": {
      "needs_background": "light"
     },
     "output_type": "display_data"
    },
    {
     "data": {
      "image/png": "[encoded data removed]",
      "text/plain": [
       "<Figure size 432x288 with 1 Axes>"
      ]
     },
     "metadata": {
      "needs_background": "light"
     },
     "output_type": "display_data"
    },
    {
     "data": {
      "image/png": "[encoded data removed]",
      "text/plain": [
       "<Figure size 432x288 with 1 Axes>"
      ]
     },
     "metadata": {
      "needs_background": "light"
     },
     "output_type": "display_data"
    },
    {
     "data": {
      "image/png": "[encoded data removed]",
      "text/plain": [
       "<Figure size 432x288 with 1 Axes>"
      ]
     },
     "metadata": {
      "needs_background": "light"
     },
     "output_type": "display_data"
    },
    {
     "data": {
      "image/png": "[encoded data removed]",
      "text/plain": [
       "<Figure size 432x288 with 1 Axes>"
      ]
     },
     "metadata": {
      "needs_background": "light"
     },
     "output_type": "display_data"
    },
    {
     "data": {
      "image/png": "[encoded data removed]",
      "text/plain": [
       "<Figure size 432x288 with 1 Axes>"
      ]
     },
     "metadata": {
      "needs_background": "light"
     },
     "output_type": "display_data"
    },
    {
     "data": {
      "image/png": "[encoded data removed]",
      "text/plain": [
       "<Figure size 432x288 with 1 Axes>"
      ]
     },
     "metadata": {
      "needs_background": "light"
     },
     "output_type": "display_data"
    },
    {
     "data": {
      "image/png": "[encoded data removed]",
      "text/plain": [
       "<Figure size 432x288 with 1 Axes>"
      ]
     },
     "metadata": {
      "needs_background": "light"
     },
     "output_type": "display_data"
    },
    {
     "data": {
      "image/png": "[encoded data removed]",
      "text/plain": [
       "<Figure size 432x288 with 1 Axes>"
      ]
     },
     "metadata": {
      "needs_background": "light"
     },
     "output_type": "display_data"
    },
    {
     "data": {
      "image/png": "[encoded data removed]",
      "text/plain": [
       "<Figure size 432x288 with 1 Axes>"
      ]
     },
     "metadata": {
      "needs_background": "light"
     },
     "output_type": "display_data"
    }
   ],
   "source": [
    "for i in range(10):\n",
    "    ch = dictionary[np.argmax(y_train[i])]\n",
    "    showImage(x_train[i],ch)"
   ]
  },
  {
   "cell_type": "code",
   "execution_count": 8,
   "metadata": {},
   "outputs": [],
   "source": [
    "x_train = x_train.reshape(62992, 128, 128,1)"
   ]
  },
  {
   "cell_type": "markdown",
   "metadata": {},
   "source": [
    "# CNN VGG16"
   ]
  },
  {
   "cell_type": "code",
   "execution_count": 63,
   "metadata": {},
   "outputs": [],
   "source": [
    "# vgg16_model = keras.applications.vgg16.VGG16()\n",
    "model = keras.applications.vgg16.VGG16(weights='imagenet', include_top=False)"
   ]
  },
  {
   "cell_type": "code",
   "execution_count": 64,
   "metadata": {},
   "outputs": [],
   "source": [
    "input = Input(shape=(128,128,3),name = 'my_input')"
   ]
  },
  {
   "cell_type": "code",
   "execution_count": 65,
   "metadata": {},
   "outputs": [],
   "source": [
    "for layer in model.layers:\n",
    "    layer.trainable = False\n",
    "output = model(input)"
   ]
  },
  {
   "cell_type": "code",
   "execution_count": 66,
   "metadata": {},
   "outputs": [],
   "source": [
    "x = Flatten(name='flatten')(output)\n",
    "x = Dense(4096, activation='relu', name='fc1')(x)\n",
    "x = Dense(4096, activation='relu', name='fc2')(x)\n",
    "x = Dense(62, activation='softmax', name='predictions')(x)"
   ]
  },
  {
   "cell_type": "code",
   "execution_count": 67,
   "metadata": {},
   "outputs": [
    {
     "name": "stderr",
     "output_type": "stream",
     "text": [
      "c:\\users\\luci\\appdata\\local\\programs\\python\\python37\\lib\\site-packages\\ipykernel_launcher.py:1: UserWarning: Update your `Model` call to the Keras 2 API: `Model(inputs=Tensor(\"my..., outputs=Tensor(\"pr...)`\n",
      "  \"\"\"Entry point for launching an IPython kernel.\n"
     ]
    }
   ],
   "source": [
    "my_model = Model(input=input, output=x)"
   ]
  },
  {
   "cell_type": "code",
   "execution_count": 68,
   "metadata": {},
   "outputs": [
    {
     "name": "stdout",
     "output_type": "stream",
     "text": [
      "_________________________________________________________________\n",
      "Layer (type)                 Output Shape              Param #   \n",
      "=================================================================\n",
      "my_input (InputLayer)        (None, 128, 128, 3)       0         \n",
      "_________________________________________________________________\n",
      "vgg16 (Model)                multiple                  14714688  \n",
      "_________________________________________________________________\n",
      "flatten (Flatten)            (None, 8192)              0         \n",
      "_________________________________________________________________\n",
      "fc1 (Dense)                  (None, 4096)              33558528  \n",
      "_________________________________________________________________\n",
      "fc2 (Dense)                  (None, 4096)              16781312  \n",
      "_________________________________________________________________\n",
      "predictions (Dense)          (None, 62)                254014    \n",
      "=================================================================\n",
      "Total params: 65,308,542\n",
      "Trainable params: 50,593,854\n",
      "Non-trainable params: 14,714,688\n",
      "_________________________________________________________________\n"
     ]
    }
   ],
   "source": [
    "my_model.summary()"
   ]
  },
  {
   "cell_type": "code",
   "execution_count": 69,
   "metadata": {},
   "outputs": [],
   "source": [
    "model.compile(Adam(lr=.0001),loss='categorical_crossentropy',metrics=['accuracy'])"
   ]
  },
  {
   "cell_type": "code",
   "execution_count": 70,
   "metadata": {},
   "outputs": [
    {
     "ename": "ValueError",
     "evalue": "Error when checking input: expected input_11 to have shape (None, None, 3) but got array with shape (128, 128, 1)",
     "output_type": "error",
     "traceback": [
      "\u001b[1;31m---------------------------------------------------------------------------\u001b[0m",
      "\u001b[1;31mValueError\u001b[0m                                Traceback (most recent call last)",
      "\u001b[1;32m<ipython-input-70-c13740440c7c>\u001b[0m in \u001b[0;36m<module>\u001b[1;34m\u001b[0m\n\u001b[0;32m      1\u001b[0m \u001b[1;31m# steps = nuamrul de poze in total / numarul de poze dintr-un batch\u001b[0m\u001b[1;33m\u001b[0m\u001b[1;33m\u001b[0m\u001b[1;33m\u001b[0m\u001b[0m\n\u001b[0;32m      2\u001b[0m \u001b[1;31m# model.fit_generator(trainBatches,steps_per_epoch=559,validation_data=validBatches,validation_steps=61,epochs=1,verbose=2)\u001b[0m\u001b[1;33m\u001b[0m\u001b[1;33m\u001b[0m\u001b[1;33m\u001b[0m\u001b[0m\n\u001b[1;32m----> 3\u001b[1;33m \u001b[0mmodel\u001b[0m\u001b[1;33m.\u001b[0m\u001b[0mfit\u001b[0m\u001b[1;33m(\u001b[0m\u001b[0mx_train\u001b[0m\u001b[1;33m,\u001b[0m\u001b[0my_train\u001b[0m\u001b[1;33m,\u001b[0m\u001b[0mvalidation_split\u001b[0m\u001b[1;33m=\u001b[0m\u001b[1;36m0.1\u001b[0m\u001b[1;33m,\u001b[0m \u001b[0mbatch_size\u001b[0m\u001b[1;33m=\u001b[0m\u001b[1;36m1000\u001b[0m\u001b[1;33m,\u001b[0m \u001b[0mepochs\u001b[0m\u001b[1;33m=\u001b[0m\u001b[1;36m2\u001b[0m\u001b[1;33m)\u001b[0m\u001b[1;33m\u001b[0m\u001b[1;33m\u001b[0m\u001b[0m\n\u001b[0m",
      "\u001b[1;32mc:\\users\\luci\\appdata\\local\\programs\\python\\python37\\lib\\site-packages\\keras\\engine\\training.py\u001b[0m in \u001b[0;36mfit\u001b[1;34m(self, x, y, batch_size, epochs, verbose, callbacks, validation_split, validation_data, shuffle, class_weight, sample_weight, initial_epoch, steps_per_epoch, validation_steps, **kwargs)\u001b[0m\n\u001b[0;32m    950\u001b[0m             \u001b[0msample_weight\u001b[0m\u001b[1;33m=\u001b[0m\u001b[0msample_weight\u001b[0m\u001b[1;33m,\u001b[0m\u001b[1;33m\u001b[0m\u001b[1;33m\u001b[0m\u001b[0m\n\u001b[0;32m    951\u001b[0m             \u001b[0mclass_weight\u001b[0m\u001b[1;33m=\u001b[0m\u001b[0mclass_weight\u001b[0m\u001b[1;33m,\u001b[0m\u001b[1;33m\u001b[0m\u001b[1;33m\u001b[0m\u001b[0m\n\u001b[1;32m--> 952\u001b[1;33m             batch_size=batch_size)\n\u001b[0m\u001b[0;32m    953\u001b[0m         \u001b[1;31m# Prepare validation data.\u001b[0m\u001b[1;33m\u001b[0m\u001b[1;33m\u001b[0m\u001b[1;33m\u001b[0m\u001b[0m\n\u001b[0;32m    954\u001b[0m         \u001b[0mdo_validation\u001b[0m \u001b[1;33m=\u001b[0m \u001b[1;32mFalse\u001b[0m\u001b[1;33m\u001b[0m\u001b[1;33m\u001b[0m\u001b[0m\n",
      "\u001b[1;32mc:\\users\\luci\\appdata\\local\\programs\\python\\python37\\lib\\site-packages\\keras\\engine\\training.py\u001b[0m in \u001b[0;36m_standardize_user_data\u001b[1;34m(self, x, y, sample_weight, class_weight, check_array_lengths, batch_size)\u001b[0m\n\u001b[0;32m    749\u001b[0m             \u001b[0mfeed_input_shapes\u001b[0m\u001b[1;33m,\u001b[0m\u001b[1;33m\u001b[0m\u001b[1;33m\u001b[0m\u001b[0m\n\u001b[0;32m    750\u001b[0m             \u001b[0mcheck_batch_axis\u001b[0m\u001b[1;33m=\u001b[0m\u001b[1;32mFalse\u001b[0m\u001b[1;33m,\u001b[0m  \u001b[1;31m# Don't enforce the batch size.\u001b[0m\u001b[1;33m\u001b[0m\u001b[1;33m\u001b[0m\u001b[0m\n\u001b[1;32m--> 751\u001b[1;33m             exception_prefix='input')\n\u001b[0m\u001b[0;32m    752\u001b[0m \u001b[1;33m\u001b[0m\u001b[0m\n\u001b[0;32m    753\u001b[0m         \u001b[1;32mif\u001b[0m \u001b[0my\u001b[0m \u001b[1;32mis\u001b[0m \u001b[1;32mnot\u001b[0m \u001b[1;32mNone\u001b[0m\u001b[1;33m:\u001b[0m\u001b[1;33m\u001b[0m\u001b[1;33m\u001b[0m\u001b[0m\n",
      "\u001b[1;32mc:\\users\\luci\\appdata\\local\\programs\\python\\python37\\lib\\site-packages\\keras\\engine\\training_utils.py\u001b[0m in \u001b[0;36mstandardize_input_data\u001b[1;34m(data, names, shapes, check_batch_axis, exception_prefix)\u001b[0m\n\u001b[0;32m    136\u001b[0m                             \u001b[1;34m': expected '\u001b[0m \u001b[1;33m+\u001b[0m \u001b[0mnames\u001b[0m\u001b[1;33m[\u001b[0m\u001b[0mi\u001b[0m\u001b[1;33m]\u001b[0m \u001b[1;33m+\u001b[0m \u001b[1;34m' to have shape '\u001b[0m \u001b[1;33m+\u001b[0m\u001b[1;33m\u001b[0m\u001b[1;33m\u001b[0m\u001b[0m\n\u001b[0;32m    137\u001b[0m                             \u001b[0mstr\u001b[0m\u001b[1;33m(\u001b[0m\u001b[0mshape\u001b[0m\u001b[1;33m)\u001b[0m \u001b[1;33m+\u001b[0m \u001b[1;34m' but got array with shape '\u001b[0m \u001b[1;33m+\u001b[0m\u001b[1;33m\u001b[0m\u001b[1;33m\u001b[0m\u001b[0m\n\u001b[1;32m--> 138\u001b[1;33m                             str(data_shape))\n\u001b[0m\u001b[0;32m    139\u001b[0m     \u001b[1;32mreturn\u001b[0m \u001b[0mdata\u001b[0m\u001b[1;33m\u001b[0m\u001b[1;33m\u001b[0m\u001b[0m\n\u001b[0;32m    140\u001b[0m \u001b[1;33m\u001b[0m\u001b[0m\n",
      "\u001b[1;31mValueError\u001b[0m: Error when checking input: expected input_11 to have shape (None, None, 3) but got array with shape (128, 128, 1)"
     ]
    }
   ],
   "source": [
    "# steps = nuamrul de poze in total / numarul de poze dintr-un batch\n",
    "# model.fit_generator(trainBatches,steps_per_epoch=559,validation_data=validBatches,validation_steps=61,epochs=1,verbose=2)\n",
    "model.fit(x_train,y_train,validation_split=0.1, batch_size=1000, epochs=2)"
   ]
  },
  {
   "cell_type": "markdown",
   "metadata": {},
   "source": [
    "# CNN x2"
   ]
  },
  {
   "cell_type": "code",
   "execution_count": 9,
   "metadata": {},
   "outputs": [
    {
     "name": "stdout",
     "output_type": "stream",
     "text": [
      "WARNING:tensorflow:From c:\\users\\luci\\appdata\\local\\programs\\python\\python37\\lib\\site-packages\\tensorflow\\python\\framework\\op_def_library.py:263: colocate_with (from tensorflow.python.framework.ops) is deprecated and will be removed in a future version.\n",
      "Instructions for updating:\n",
      "Colocations handled automatically by placer.\n"
     ]
    }
   ],
   "source": [
    "model = Sequential()\n",
    "model.add(Conv2D(64, kernel_size=3, activation='relu', input_shape=(128,128,1)))\n",
    "model.add(Conv2D(32, kernel_size=3, activation='relu'))\n",
    "model.add(Conv2D(16, kernel_size=3, activation='relu'))\n",
    "model.add(Flatten())\n",
    "model.add(Dense(62, activation='softmax'))\n",
    "model.compile(Adam(lr=.0001),loss='categorical_crossentropy',metrics=['accuracy'])"
   ]
  },
  {
   "cell_type": "code",
   "execution_count": 10,
   "metadata": {},
   "outputs": [
    {
     "name": "stdout",
     "output_type": "stream",
     "text": [
      "_________________________________________________________________\n",
      "Layer (type)                 Output Shape              Param #   \n",
      "=================================================================\n",
      "conv2d_1 (Conv2D)            (None, 126, 126, 64)      640       \n",
      "_________________________________________________________________\n",
      "conv2d_2 (Conv2D)            (None, 124, 124, 32)      18464     \n",
      "_________________________________________________________________\n",
      "conv2d_3 (Conv2D)            (None, 122, 122, 16)      4624      \n",
      "_________________________________________________________________\n",
      "flatten_1 (Flatten)          (None, 238144)            0         \n",
      "_________________________________________________________________\n",
      "dense_1 (Dense)              (None, 62)                14764990  \n",
      "=================================================================\n",
      "Total params: 14,788,718\n",
      "Trainable params: 14,788,718\n",
      "Non-trainable params: 0\n",
      "_________________________________________________________________\n"
     ]
    }
   ],
   "source": [
    "model.summary()"
   ]
  },
  {
   "cell_type": "code",
   "execution_count": 1,
   "metadata": {},
   "outputs": [
    {
     "ename": "NameError",
     "evalue": "name 'model' is not defined",
     "output_type": "error",
     "traceback": [
      "\u001b[1;31m---------------------------------------------------------------------------\u001b[0m",
      "\u001b[1;31mNameError\u001b[0m                                 Traceback (most recent call last)",
      "\u001b[1;32m<ipython-input-1-0cf35ed59905>\u001b[0m in \u001b[0;36m<module>\u001b[1;34m\u001b[0m\n\u001b[1;32m----> 1\u001b[1;33m \u001b[0mmodel\u001b[0m\u001b[1;33m.\u001b[0m\u001b[0mfit\u001b[0m\u001b[1;33m(\u001b[0m\u001b[0mx_train\u001b[0m\u001b[1;33m,\u001b[0m\u001b[0my_train\u001b[0m\u001b[1;33m,\u001b[0m\u001b[0mvalidation_split\u001b[0m\u001b[1;33m=\u001b[0m\u001b[1;36m0.1\u001b[0m\u001b[1;33m,\u001b[0m \u001b[0mbatch_size\u001b[0m\u001b[1;33m=\u001b[0m\u001b[1;36m1000\u001b[0m\u001b[1;33m,\u001b[0m \u001b[0mepochs\u001b[0m\u001b[1;33m=\u001b[0m\u001b[1;36m2\u001b[0m\u001b[1;33m)\u001b[0m\u001b[1;33m\u001b[0m\u001b[1;33m\u001b[0m\u001b[0m\n\u001b[0m",
      "\u001b[1;31mNameError\u001b[0m: name 'model' is not defined"
     ]
    }
   ],
   "source": [
    "model.fit(x_train,y_train,validation_split=0.1, batch_size=1000, epochs=2)"
   ]
  },
  {
   "cell_type": "code",
   "execution_count": null,
   "metadata": {},
   "outputs": [],
   "source": []
  }
 ],
 "metadata": {
  "kernelspec": {
   "display_name": "Python 3",
   "language": "python",
   "name": "python3"
  },
  "language_info": {
   "codemirror_mode": {
    "name": "ipython",
    "version": 3
   },
   "file_extension": ".py",
   "mimetype": "text/x-python",
   "name": "python",
   "nbconvert_exporter": "python",
   "pygments_lexer": "ipython3",
   "version": "3.7.2"
  }
 },
 "nbformat": 4,
 "nbformat_minor": 2
}
