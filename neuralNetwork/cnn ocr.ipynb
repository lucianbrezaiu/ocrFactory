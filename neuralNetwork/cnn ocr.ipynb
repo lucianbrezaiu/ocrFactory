{
 "cells": [
  {
   "cell_type": "code",
   "execution_count": 4,
   "metadata": {},
   "outputs": [
    {
     "name": "stderr",
     "output_type": "stream",
     "text": [
      "Using TensorFlow backend.\n"
     ]
    }
   ],
   "source": [
    "import numpy as np\n",
    "import keras\n",
    "from keras import backend as K\n",
    "from keras.utils import to_categorical\n",
    "from keras.models import Sequential,Model,model_from_json\n",
    "from keras.layers import Input,Activation\n",
    "from keras.layers.core import Dense, Flatten, Dropout\n",
    "from keras.optimizers import Adam\n",
    "from keras. metrics import categorical_crossentropy\n",
    "from keras.preprocessing.image import ImageDataGenerator\n",
    "from keras.layers.normalization import BatchNormalization\n",
    "from keras.layers.convolutional import *\n",
    "from matplotlib import pyplot as plt\n",
    "import itertools\n",
    "import cv2\n",
    "from sklearn.utils import shuffle\n",
    "%matplotlib inline\n",
    "\n",
    "K.set_image_dim_ordering('tf')"
   ]
  },
  {
   "cell_type": "code",
   "execution_count": 5,
   "metadata": {},
   "outputs": [],
   "source": [
    "dictionary = {\n",
    "            0: '0',\n",
    "            1: '1',\n",
    "            2: '2',\n",
    "            3: '3',\n",
    "            4: '4',\n",
    "            5: '5',\n",
    "            6: '6',\n",
    "            7: '7',\n",
    "            8: '8',\n",
    "            9: '9',\n",
    "            10: 'A',\n",
    "            11: 'B',\n",
    "            12: 'C',\n",
    "            13: 'D',\n",
    "            14: 'E',\n",
    "            15: 'F',\n",
    "            16: 'G',\n",
    "            17: 'H',\n",
    "            18: 'I',\n",
    "            19: 'J',\n",
    "            20: 'K',\n",
    "            21: 'L',\n",
    "            22: 'M',\n",
    "            23: 'N',\n",
    "            24: 'O',\n",
    "            25: 'P',\n",
    "            26: 'Q',\n",
    "            27: 'R',\n",
    "            28: 'S',\n",
    "            29: 'T',\n",
    "            30: 'U',\n",
    "            31: 'V',\n",
    "            32: 'W',\n",
    "            33: 'X',\n",
    "            34: 'Y',\n",
    "            35: 'Z',\n",
    "            36: 'a',\n",
    "            37: 'b',\n",
    "            38: 'c',\n",
    "            39: 'd',\n",
    "            40: 'e',\n",
    "            41: 'f',\n",
    "            42: 'g',\n",
    "            43: 'h',\n",
    "            44: 'i',\n",
    "            45: 'j',\n",
    "            46: 'k',\n",
    "            47: 'l',\n",
    "            48: 'm',\n",
    "            49: 'n',\n",
    "            50: 'o',\n",
    "            51: 'p',\n",
    "            52: 'q',\n",
    "            53: 'r',\n",
    "            54: 's',\n",
    "            55: 't',\n",
    "            56: 'u',\n",
    "            57: 'v',\n",
    "            58: 'w',\n",
    "            59: 'x',\n",
    "            60: 'y',\n",
    "            61: 'z',\n",
    "            62: '!',\n",
    "            63: '.',\n",
    "            64: '?',\n",
    "            65: ',',\n",
    "            66: ';',\n",
    "            67: ':',\n",
    "            68: '-',\n",
    "            69: '(',\n",
    "            70: ')'\n",
    "        }"
   ]
  },
  {
   "cell_type": "code",
   "execution_count": 6,
   "metadata": {},
   "outputs": [],
   "source": [
    "def loadTrainImage(path):\n",
    "        img = cv2.imread(path);\n",
    "        img = cv2.cvtColor(img, cv2.COLOR_BGR2GRAY)\n",
    "        img = 255 - img\n",
    "        img = cv2.resize(img,(32,32))\n",
    "        return img\n",
    "    \n",
    "def loadTrainingSet():\n",
    "    x_train = []\n",
    "    y_train = []\n",
    "\n",
    "    for i in range(1,63):\n",
    "        folderName = \"Sample\"\n",
    "        nrFolder = \"\"\n",
    "        if i<=9:\n",
    "            nrFolder = \"00\"+str(i)\n",
    "        else:\n",
    "            nrFolder = \"0\"+str(i)\n",
    "        folderName = folderName + nrFolder   \n",
    "        for j in range(1,1017):\n",
    "            imageName = \"\";\n",
    "            if j<=9:\n",
    "                imageName = \"img\" + nrFolder + \"-0000\" + str(j)\n",
    "            elif j<=99:\n",
    "                imageName = \"img\" + nrFolder + \"-000\" + str(j)\n",
    "            elif j<=999:\n",
    "                imageName = \"img\" + nrFolder + \"-00\" + str(j)\n",
    "            else:\n",
    "                imageName = \"img\" + nrFolder + \"-0\" + str(j)\n",
    "\n",
    "            image = loadTrainImage(\"./trainingSet/\" + folderName + \"/\" + imageName + \".png\")\n",
    "            x_train.append(image)\n",
    "            y_train.append(i-1)\n",
    "        print(\"load '\", dictionary[i-1],\"' from \", folderName,\" ...\")\n",
    "\n",
    "#     for i in range(63,72):\n",
    "#         folderName = \"Sample0\"+str(i)\n",
    "#         image = loadTrainImage(\"./marks/\" + folderName + \"/1.png\")\n",
    "#         image = cv2.morphologyEx(image,cv2.MORPH_DILATE,np.ones((3,3),np.uint8))      \n",
    "#         for j in range(1016):\n",
    "#             x_train.append(image)\n",
    "#             y_train.append(i-1)\n",
    "#         print(\"load '\", dictionary[i-1],\"' from \", folderName,\" ...\")\n",
    "        \n",
    "    x_train = np.asarray(x_train)\n",
    "    \n",
    "    y_train = np.asarray(y_train)\n",
    "    \n",
    "    x_train,y_train = shuffle(x_train,y_train)\n",
    "    \n",
    "    y_train = to_categorical(y_train)\n",
    "    \n",
    "    return (x_train,y_train)\n",
    "\n",
    "def showImage(image,label):\n",
    "        plt.title('Label is {label}'.format(label=label))\n",
    "        plt.imshow(image, cmap=plt.cm.binary)\n",
    "        plt.show()"
   ]
  },
  {
   "cell_type": "code",
   "execution_count": 4,
   "metadata": {},
   "outputs": [
    {
     "name": "stdout",
     "output_type": "stream",
     "text": [
      "load ' 0 ' from  Sample001  ...\n",
      "load ' 1 ' from  Sample002  ...\n",
      "load ' 2 ' from  Sample003  ...\n",
      "load ' 3 ' from  Sample004  ...\n",
      "load ' 4 ' from  Sample005  ...\n",
      "load ' 5 ' from  Sample006  ...\n",
      "load ' 6 ' from  Sample007  ...\n",
      "load ' 7 ' from  Sample008  ...\n",
      "load ' 8 ' from  Sample009  ...\n",
      "load ' 9 ' from  Sample010  ...\n",
      "load ' A ' from  Sample011  ...\n",
      "load ' B ' from  Sample012  ...\n",
      "load ' C ' from  Sample013  ...\n",
      "load ' D ' from  Sample014  ...\n",
      "load ' E ' from  Sample015  ...\n",
      "load ' F ' from  Sample016  ...\n",
      "load ' G ' from  Sample017  ...\n",
      "load ' H ' from  Sample018  ...\n",
      "load ' I ' from  Sample019  ...\n",
      "load ' J ' from  Sample020  ...\n",
      "load ' K ' from  Sample021  ...\n",
      "load ' L ' from  Sample022  ...\n",
      "load ' M ' from  Sample023  ...\n",
      "load ' N ' from  Sample024  ...\n",
      "load ' O ' from  Sample025  ...\n",
      "load ' P ' from  Sample026  ...\n",
      "load ' Q ' from  Sample027  ...\n",
      "load ' R ' from  Sample028  ...\n",
      "load ' S ' from  Sample029  ...\n",
      "load ' T ' from  Sample030  ...\n",
      "load ' U ' from  Sample031  ...\n",
      "load ' V ' from  Sample032  ...\n",
      "load ' W ' from  Sample033  ...\n",
      "load ' X ' from  Sample034  ...\n",
      "load ' Y ' from  Sample035  ...\n",
      "load ' Z ' from  Sample036  ...\n",
      "load ' a ' from  Sample037  ...\n",
      "load ' b ' from  Sample038  ...\n",
      "load ' c ' from  Sample039  ...\n",
      "load ' d ' from  Sample040  ...\n",
      "load ' e ' from  Sample041  ...\n",
      "load ' f ' from  Sample042  ...\n",
      "load ' g ' from  Sample043  ...\n",
      "load ' h ' from  Sample044  ...\n",
      "load ' i ' from  Sample045  ...\n",
      "load ' j ' from  Sample046  ...\n",
      "load ' k ' from  Sample047  ...\n",
      "load ' l ' from  Sample048  ...\n",
      "load ' m ' from  Sample049  ...\n",
      "load ' n ' from  Sample050  ...\n",
      "load ' o ' from  Sample051  ...\n",
      "load ' p ' from  Sample052  ...\n",
      "load ' q ' from  Sample053  ...\n",
      "load ' r ' from  Sample054  ...\n",
      "load ' s ' from  Sample055  ...\n",
      "load ' t ' from  Sample056  ...\n",
      "load ' u ' from  Sample057  ...\n",
      "load ' v ' from  Sample058  ...\n",
      "load ' w ' from  Sample059  ...\n",
      "load ' x ' from  Sample060  ...\n",
      "load ' y ' from  Sample061  ...\n",
      "load ' z ' from  Sample062  ...\n"
     ]
    }
   ],
   "source": [
    "x_train, y_train = loadTrainingSet()"
   ]
  },
  {
   "cell_type": "code",
   "execution_count": 5,
   "metadata": {},
   "outputs": [
    {
     "data": {
      "image/png": "[encoded data removed]",
      "text/plain": [
       "<Figure size 432x288 with 1 Axes>"
      ]
     },
     "metadata": {
      "needs_background": "light"
     },
     "output_type": "display_data"
    },
    {
     "data": {
      "image/png": "[encoded data removed]",
      "text/plain": [
       "<Figure size 432x288 with 1 Axes>"
      ]
     },
     "metadata": {
      "needs_background": "light"
     },
     "output_type": "display_data"
    },
    {
     "data": {
      "image/png": "[encoded data removed]",
      "text/plain": [
       "<Figure size 432x288 with 1 Axes>"
      ]
     },
     "metadata": {
      "needs_background": "light"
     },
     "output_type": "display_data"
    },
    {
     "data": {
      "image/png": "[encoded data removed]",
      "text/plain": [
       "<Figure size 432x288 with 1 Axes>"
      ]
     },
     "metadata": {
      "needs_background": "light"
     },
     "output_type": "display_data"
    },
    {
     "data": {
      "image/png": "[encoded data removed]",
      "text/plain": [
       "<Figure size 432x288 with 1 Axes>"
      ]
     },
     "metadata": {
      "needs_background": "light"
     },
     "output_type": "display_data"
    },
    {
     "data": {
      "image/png": "[encoded data removed]",
      "text/plain": [
       "<Figure size 432x288 with 1 Axes>"
      ]
     },
     "metadata": {
      "needs_background": "light"
     },
     "output_type": "display_data"
    },
    {
     "data": {
      "image/png": "[encoded data removed]",
      "text/plain": [
       "<Figure size 432x288 with 1 Axes>"
      ]
     },
     "metadata": {
      "needs_background": "light"
     },
     "output_type": "display_data"
    },
    {
     "data": {
      "image/png": "[encoded data removed]",
      "text/plain": [
       "<Figure size 432x288 with 1 Axes>"
      ]
     },
     "metadata": {
      "needs_background": "light"
     },
     "output_type": "display_data"
    },
    {
     "data": {
      "image/png": "[encoded data removed]",
      "text/plain": [
       "<Figure size 432x288 with 1 Axes>"
      ]
     },
     "metadata": {
      "needs_background": "light"
     },
     "output_type": "display_data"
    },
    {
     "data": {
      "image/png": "[encoded data removed]",
      "text/plain": [
       "<Figure size 432x288 with 1 Axes>"
      ]
     },
     "metadata": {
      "needs_background": "light"
     },
     "output_type": "display_data"
    },
    {
     "data": {
      "image/png": "[encoded data removed]",
      "text/plain": [
       "<Figure size 432x288 with 1 Axes>"
      ]
     },
     "metadata": {
      "needs_background": "light"
     },
     "output_type": "display_data"
    },
    {
     "data": {
      "image/png": "[encoded data removed]",
      "text/plain": [
       "<Figure size 432x288 with 1 Axes>"
      ]
     },
     "metadata": {
      "needs_background": "light"
     },
     "output_type": "display_data"
    },
    {
     "data": {
      "image/png": "[encoded data removed]",
      "text/plain": [
       "<Figure size 432x288 with 1 Axes>"
      ]
     },
     "metadata": {
      "needs_background": "light"
     },
     "output_type": "display_data"
    },
    {
     "data": {
      "image/png": "[encoded data removed]",
      "text/plain": [
       "<Figure size 432x288 with 1 Axes>"
      ]
     },
     "metadata": {
      "needs_background": "light"
     },
     "output_type": "display_data"
    },
    {
     "data": {
      "image/png": "[encoded data removed]",
      "text/plain": [
       "<Figure size 432x288 with 1 Axes>"
      ]
     },
     "metadata": {
      "needs_background": "light"
     },
     "output_type": "display_data"
    },
    {
     "data": {
      "image/png": "[encoded data removed]",
      "text/plain": [
       "<Figure size 432x288 with 1 Axes>"
      ]
     },
     "metadata": {
      "needs_background": "light"
     },
     "output_type": "display_data"
    },
    {
     "data": {
      "image/png": "[encoded data removed]",
      "text/plain": [
       "<Figure size 432x288 with 1 Axes>"
      ]
     },
     "metadata": {
      "needs_background": "light"
     },
     "output_type": "display_data"
    },
    {
     "data": {
      "image/png": "[encoded data removed]",
      "text/plain": [
       "<Figure size 432x288 with 1 Axes>"
      ]
     },
     "metadata": {
      "needs_background": "light"
     },
     "output_type": "display_data"
    },
    {
     "data": {
      "image/png": "[encoded data removed]",
      "text/plain": [
       "<Figure size 432x288 with 1 Axes>"
      ]
     },
     "metadata": {
      "needs_background": "light"
     },
     "output_type": "display_data"
    },
    {
     "data": {
      "image/png": "[encoded data removed]",
      "text/plain": [
       "<Figure size 432x288 with 1 Axes>"
      ]
     },
     "metadata": {
      "needs_background": "light"
     },
     "output_type": "display_data"
    }
   ],
   "source": [
    "for i in range(20):\n",
    "    image = x_train[i]\n",
    "    ch = dictionary[np.argmax(y_train[i])]\n",
    "    showImage(image,ch)"
   ]
  },
  {
   "cell_type": "code",
   "execution_count": 10,
   "metadata": {},
   "outputs": [],
   "source": [
    "x_train = x_train.reshape(len(x_train), 32, 32,1)"
   ]
  },
  {
   "cell_type": "markdown",
   "metadata": {},
   "source": [
    "# Definirea modelului"
   ]
  },
  {
   "cell_type": "code",
   "execution_count": 6,
   "metadata": {},
   "outputs": [
    {
     "name": "stdout",
     "output_type": "stream",
     "text": [
      "WARNING:tensorflow:From c:\\users\\luci\\appdata\\local\\programs\\python\\python37\\lib\\site-packages\\tensorflow\\python\\framework\\op_def_library.py:263: colocate_with (from tensorflow.python.framework.ops) is deprecated and will be removed in a future version.\n",
      "Instructions for updating:\n",
      "Colocations handled automatically by placer.\n"
     ]
    }
   ],
   "source": [
    "model = Sequential()\n",
    "\n",
    "model.add(Conv2D(32, kernel_size=3, activation='relu', input_shape=(32,32,1)))\n",
    "model.add(MaxPooling2D(pool_size=(2, 2)))\n",
    "\n",
    "model.add(Conv2D(64, kernel_size=3, activation='relu'))\n",
    "model.add(MaxPooling2D(pool_size=(2, 2)))\n",
    "\n",
    "model.add(Conv2D(128, kernel_size=3, activation='relu'))\n",
    "model.add(MaxPooling2D(pool_size=(2, 2)))\n",
    "       \n",
    "model.add(Flatten())\n",
    "model.add(Dense(1984, activation='relu'))\n",
    "model.add(Dense(496, activation='relu'))\n",
    "model.add(Dense(62, activation='softmax'))"
   ]
  },
  {
   "cell_type": "markdown",
   "metadata": {},
   "source": [
    "# Compilarea modelului"
   ]
  },
  {
   "cell_type": "code",
   "execution_count": 7,
   "metadata": {},
   "outputs": [],
   "source": [
    "model.compile(Adam(lr=.0001),loss='categorical_crossentropy',metrics=['accuracy'])"
   ]
  },
  {
   "cell_type": "code",
   "execution_count": 28,
   "metadata": {},
   "outputs": [
    {
     "name": "stdout",
     "output_type": "stream",
     "text": [
      "_________________________________________________________________\n",
      "Layer (type)                 Output Shape              Param #   \n",
      "=================================================================\n",
      "conv2d_1 (Conv2D)            (None, 30, 30, 32)        320       \n",
      "_________________________________________________________________\n",
      "max_pooling2d_1 (MaxPooling2 (None, 15, 15, 32)        0         \n",
      "_________________________________________________________________\n",
      "conv2d_2 (Conv2D)            (None, 13, 13, 64)        18496     \n",
      "_________________________________________________________________\n",
      "max_pooling2d_2 (MaxPooling2 (None, 6, 6, 64)          0         \n",
      "_________________________________________________________________\n",
      "conv2d_3 (Conv2D)            (None, 4, 4, 128)         73856     \n",
      "_________________________________________________________________\n",
      "max_pooling2d_3 (MaxPooling2 (None, 2, 2, 128)         0         \n",
      "_________________________________________________________________\n",
      "flatten_1 (Flatten)          (None, 512)               0         \n",
      "_________________________________________________________________\n",
      "dense_1 (Dense)              (None, 1984)              1017792   \n",
      "_________________________________________________________________\n",
      "dense_2 (Dense)              (None, 496)               984560    \n",
      "_________________________________________________________________\n",
      "dense_3 (Dense)              (None, 62)                30814     \n",
      "=================================================================\n",
      "Total params: 2,125,838\n",
      "Trainable params: 2,125,838\n",
      "Non-trainable params: 0\n",
      "_________________________________________________________________\n"
     ]
    }
   ],
   "source": [
    "model.summary()"
   ]
  },
  {
   "cell_type": "markdown",
   "metadata": {},
   "source": [
    "# Antrenarea modelului"
   ]
  },
  {
   "cell_type": "code",
   "execution_count": 11,
   "metadata": {},
   "outputs": [
    {
     "name": "stdout",
     "output_type": "stream",
     "text": [
      "\n",
      "EPOCA 1 :\n",
      "WARNING:tensorflow:From c:\\users\\luci\\appdata\\local\\programs\\python\\python37\\lib\\site-packages\\tensorflow\\python\\ops\\math_ops.py:3066: to_int32 (from tensorflow.python.ops.math_ops) is deprecated and will be removed in a future version.\n",
      "Instructions for updating:\n",
      "Use tf.cast instead.\n",
      "Train on 50393 samples, validate on 12599 samples\n",
      "Epoch 1/1\n",
      "50393/50393 [==============================] - 101s 2ms/step - loss: 1.3511 - acc: 0.6903 - val_loss: 0.6716 - val_acc: 0.8041\n",
      "\n",
      "EPOCA 2 :\n",
      "Train on 50393 samples, validate on 12599 samples\n",
      "Epoch 1/1\n",
      "50393/50393 [==============================] - 95s 2ms/step - loss: 0.5535 - acc: 0.8313 - val_loss: 0.5415 - val_acc: 0.8300\n",
      "\n",
      "EPOCA 3 :\n",
      "Train on 50393 samples, validate on 12599 samples\n",
      "Epoch 1/1\n",
      "50393/50393 [==============================] - 99s 2ms/step - loss: 0.4045 - acc: 0.8679 - val_loss: 0.4711 - val_acc: 0.8463\n",
      "\n",
      "EPOCA 4 :\n",
      "Train on 50393 samples, validate on 12599 samples\n",
      "Epoch 1/1\n",
      "50393/50393 [==============================] - 110s 2ms/step - loss: 0.3206 - acc: 0.8910 - val_loss: 0.4284 - val_acc: 0.8598\n",
      "\n",
      "EPOCA 5 :\n",
      "Train on 50393 samples, validate on 12599 samples\n",
      "Epoch 1/1\n",
      "50393/50393 [==============================] - 101s 2ms/step - loss: 0.2638 - acc: 0.9080 - val_loss: 0.4138 - val_acc: 0.8639\n",
      "\n",
      "EPOCA 6 :\n",
      "Train on 50393 samples, validate on 12599 samples\n",
      "Epoch 1/1\n",
      "50393/50393 [==============================] - 77s 2ms/step - loss: 0.2257 - acc: 0.9203 - val_loss: 0.4109 - val_acc: 0.8655\n",
      "\n",
      "EPOCA 7 :\n",
      "Train on 50393 samples, validate on 12599 samples\n",
      "Epoch 1/1\n",
      "50393/50393 [==============================] - 77s 2ms/step - loss: 0.1980 - acc: 0.9293 - val_loss: 0.3715 - val_acc: 0.8759\n",
      "\n",
      "EPOCA 8 :\n",
      "Train on 50393 samples, validate on 12599 samples\n",
      "Epoch 1/1\n",
      "50393/50393 [==============================] - 79s 2ms/step - loss: 0.1726 - acc: 0.9380 - val_loss: 0.4022 - val_acc: 0.8728\n",
      "\n",
      "EPOCA 9 :\n",
      "Train on 50393 samples, validate on 12599 samples\n",
      "Epoch 1/1\n",
      "50393/50393 [==============================] - 85s 2ms/step - loss: 0.1614 - acc: 0.9413 - val_loss: 0.3781 - val_acc: 0.8783\n",
      "\n",
      "EPOCA 10 :\n",
      "Train on 50393 samples, validate on 12599 samples\n",
      "Epoch 1/1\n",
      "50393/50393 [==============================] - 78s 2ms/step - loss: 0.1519 - acc: 0.9465 - val_loss: 0.3555 - val_acc: 0.8851\n",
      "\n",
      "EPOCA 11 :\n",
      "Train on 50393 samples, validate on 12599 samples\n",
      "Epoch 1/1\n",
      "50393/50393 [==============================] - 76s 2ms/step - loss: 0.1390 - acc: 0.9504 - val_loss: 0.3953 - val_acc: 0.8747\n",
      "\n",
      "EPOCA 12 :\n",
      "Train on 50393 samples, validate on 12599 samples\n",
      "Epoch 1/1\n",
      "50393/50393 [==============================] - 71s 1ms/step - loss: 0.1357 - acc: 0.9517 - val_loss: 0.3583 - val_acc: 0.8905\n",
      "\n",
      "EPOCA 13 :\n",
      "Train on 50393 samples, validate on 12599 samples\n",
      "Epoch 1/1\n",
      "50393/50393 [==============================] - 71s 1ms/step - loss: 0.1213 - acc: 0.9569 - val_loss: 0.3758 - val_acc: 0.8832\n",
      "\n",
      "EPOCA 14 :\n",
      "Train on 50393 samples, validate on 12599 samples\n",
      "Epoch 1/1\n",
      "50393/50393 [==============================] - 71s 1ms/step - loss: 0.1195 - acc: 0.9580 - val_loss: 0.3597 - val_acc: 0.8883\n",
      "\n",
      "EPOCA 15 :\n",
      "Train on 50393 samples, validate on 12599 samples\n",
      "Epoch 1/1\n",
      "50393/50393 [==============================] - 71s 1ms/step - loss: 0.1121 - acc: 0.9606 - val_loss: 0.3801 - val_acc: 0.8813\n",
      "\n",
      "EPOCA 16 :\n",
      "Train on 50393 samples, validate on 12599 samples\n",
      "Epoch 1/1\n",
      "50393/50393 [==============================] - 71s 1ms/step - loss: 0.1050 - acc: 0.9621 - val_loss: 0.3658 - val_acc: 0.8875\n",
      "\n",
      "EPOCA 17 :\n",
      "Train on 50393 samples, validate on 12599 samples\n",
      "Epoch 1/1\n",
      "50393/50393 [==============================] - 71s 1ms/step - loss: 0.1034 - acc: 0.9632 - val_loss: 0.3717 - val_acc: 0.8857\n",
      "\n",
      "EPOCA 18 :\n",
      "Train on 50393 samples, validate on 12599 samples\n",
      "Epoch 1/1\n",
      "50393/50393 [==============================] - 71s 1ms/step - loss: 0.0988 - acc: 0.9642 - val_loss: 0.3730 - val_acc: 0.8865\n",
      "\n",
      "EPOCA 19 :\n",
      "Train on 50393 samples, validate on 12599 samples\n",
      "Epoch 1/1\n",
      "50393/50393 [==============================] - 70s 1ms/step - loss: 0.0939 - acc: 0.9660 - val_loss: 0.3881 - val_acc: 0.8889\n",
      "\n",
      "EPOCA 20 :\n",
      "Train on 50393 samples, validate on 12599 samples\n",
      "Epoch 1/1\n",
      "50393/50393 [==============================] - 71s 1ms/step - loss: 0.0912 - acc: 0.9670 - val_loss: 0.3863 - val_acc: 0.8833\n",
      "\n",
      "EPOCA 21 :\n",
      "Train on 50393 samples, validate on 12599 samples\n",
      "Epoch 1/1\n",
      "50393/50393 [==============================] - 71s 1ms/step - loss: 0.0858 - acc: 0.9697 - val_loss: 0.4172 - val_acc: 0.8843\n",
      "\n",
      "EPOCA 22 :\n",
      "Train on 50393 samples, validate on 12599 samples\n",
      "Epoch 1/1\n",
      "50393/50393 [==============================] - 71s 1ms/step - loss: 0.0857 - acc: 0.9688 - val_loss: 0.3866 - val_acc: 0.8859\n",
      "\n",
      "EPOCA 23 :\n",
      "Train on 50393 samples, validate on 12599 samples\n",
      "Epoch 1/1\n",
      "50393/50393 [==============================] - 70s 1ms/step - loss: 0.0823 - acc: 0.9701 - val_loss: 0.3744 - val_acc: 0.8904\n",
      "\n",
      "EPOCA 24 :\n",
      "Train on 50393 samples, validate on 12599 samples\n",
      "Epoch 1/1\n",
      "50393/50393 [==============================] - 70s 1ms/step - loss: 0.0775 - acc: 0.9717 - val_loss: 0.3780 - val_acc: 0.8896\n",
      "\n",
      "EPOCA 25 :\n",
      "Train on 50393 samples, validate on 12599 samples\n",
      "Epoch 1/1\n",
      "50393/50393 [==============================] - 70s 1ms/step - loss: 0.0747 - acc: 0.9726 - val_loss: 0.3815 - val_acc: 0.8902\n",
      "\n",
      "EPOCA 26 :\n",
      "Train on 50393 samples, validate on 12599 samples\n",
      "Epoch 1/1\n",
      "50393/50393 [==============================] - 70s 1ms/step - loss: 0.0730 - acc: 0.9735 - val_loss: 0.3957 - val_acc: 0.8897\n",
      "\n",
      "EPOCA 27 :\n",
      "Train on 50393 samples, validate on 12599 samples\n",
      "Epoch 1/1\n",
      "50393/50393 [==============================] - 70s 1ms/step - loss: 0.0698 - acc: 0.9739 - val_loss: 0.3996 - val_acc: 0.8917\n",
      "\n",
      "EPOCA 28 :\n",
      "Train on 50393 samples, validate on 12599 samples\n",
      "Epoch 1/1\n",
      "50393/50393 [==============================] - 71s 1ms/step - loss: 0.0676 - acc: 0.9746 - val_loss: 0.3946 - val_acc: 0.8908\n",
      "\n",
      "EPOCA 29 :\n",
      "Train on 50393 samples, validate on 12599 samples\n",
      "Epoch 1/1\n",
      "50393/50393 [==============================] - 70s 1ms/step - loss: 0.0652 - acc: 0.9755 - val_loss: 0.3960 - val_acc: 0.8911\n",
      "\n",
      "EPOCA 30 :\n",
      "Train on 50393 samples, validate on 12599 samples\n",
      "Epoch 1/1\n",
      "50393/50393 [==============================] - 72s 1ms/step - loss: 0.0646 - acc: 0.9760 - val_loss: 0.4005 - val_acc: 0.8899\n",
      "\n",
      "EPOCA 31 :\n",
      "Train on 50393 samples, validate on 12599 samples\n",
      "Epoch 1/1\n",
      "50393/50393 [==============================] - 71s 1ms/step - loss: 0.0630 - acc: 0.9762 - val_loss: 0.4241 - val_acc: 0.8840\n",
      "\n",
      "EPOCA 32 :\n",
      "Train on 50393 samples, validate on 12599 samples\n",
      "Epoch 1/1\n",
      "50393/50393 [==============================] - 70s 1ms/step - loss: 0.0600 - acc: 0.9774 - val_loss: 0.4083 - val_acc: 0.8904\n",
      "\n",
      "EPOCA 33 :\n",
      "Train on 50393 samples, validate on 12599 samples\n",
      "Epoch 1/1\n",
      "50393/50393 [==============================] - 70s 1ms/step - loss: 0.0607 - acc: 0.9761 - val_loss: 0.4051 - val_acc: 0.8922\n",
      "\n",
      "EPOCA 34 :\n",
      "Train on 50393 samples, validate on 12599 samples\n",
      "Epoch 1/1\n",
      "50393/50393 [==============================] - 71s 1ms/step - loss: 0.0580 - acc: 0.9775 - val_loss: 0.3877 - val_acc: 0.8930\n",
      "\n",
      "EPOCA 35 :\n",
      "Train on 50393 samples, validate on 12599 samples\n",
      "Epoch 1/1\n",
      "50393/50393 [==============================] - 71s 1ms/step - loss: 0.0567 - acc: 0.9776 - val_loss: 0.4038 - val_acc: 0.8932\n",
      "\n",
      "EPOCA 36 :\n",
      "Train on 50393 samples, validate on 12599 samples\n",
      "Epoch 1/1\n",
      "50393/50393 [==============================] - 71s 1ms/step - loss: 0.0569 - acc: 0.9777 - val_loss: 0.4122 - val_acc: 0.8909\n",
      "\n",
      "EPOCA 37 :\n",
      "Train on 50393 samples, validate on 12599 samples\n",
      "Epoch 1/1\n",
      "50393/50393 [==============================] - 71s 1ms/step - loss: 0.0532 - acc: 0.9785 - val_loss: 0.4093 - val_acc: 0.8961\n",
      "\n",
      "EPOCA 38 :\n",
      "Train on 50393 samples, validate on 12599 samples\n",
      "Epoch 1/1\n",
      "50393/50393 [==============================] - 71s 1ms/step - loss: 0.0528 - acc: 0.9785 - val_loss: 0.4070 - val_acc: 0.8918\n",
      "\n",
      "EPOCA 39 :\n",
      "Train on 50393 samples, validate on 12599 samples\n",
      "Epoch 1/1\n",
      "50393/50393 [==============================] - 71s 1ms/step - loss: 0.0525 - acc: 0.9782 - val_loss: 0.4142 - val_acc: 0.8885\n",
      "\n",
      "EPOCA 40 :\n",
      "Train on 50393 samples, validate on 12599 samples\n",
      "Epoch 1/1\n",
      "50393/50393 [==============================] - 70s 1ms/step - loss: 0.0488 - acc: 0.9798 - val_loss: 0.4225 - val_acc: 0.8908\n"
     ]
    },
    {
     "name": "stdout",
     "output_type": "stream",
     "text": [
      "\n",
      "EPOCA 41 :\n",
      "Train on 50393 samples, validate on 12599 samples\n",
      "Epoch 1/1\n",
      "50393/50393 [==============================] - 71s 1ms/step - loss: 0.0503 - acc: 0.9786 - val_loss: 0.4071 - val_acc: 0.8920\n",
      "\n",
      "EPOCA 42 :\n",
      "Train on 50393 samples, validate on 12599 samples\n",
      "Epoch 1/1\n",
      "50393/50393 [==============================] - 70s 1ms/step - loss: 0.0485 - acc: 0.9792 - val_loss: 0.4363 - val_acc: 0.8898\n",
      "\n",
      "EPOCA 43 :\n",
      "Train on 50393 samples, validate on 12599 samples\n",
      "Epoch 1/1\n",
      "50393/50393 [==============================] - 71s 1ms/step - loss: 0.0482 - acc: 0.9794 - val_loss: 0.4357 - val_acc: 0.8936\n",
      "\n",
      "EPOCA 44 :\n",
      "Train on 50393 samples, validate on 12599 samples\n",
      "Epoch 1/1\n",
      "50393/50393 [==============================] - 70s 1ms/step - loss: 0.0449 - acc: 0.9806 - val_loss: 0.4240 - val_acc: 0.8936\n",
      "\n",
      "EPOCA 45 :\n",
      "Train on 50393 samples, validate on 12599 samples\n",
      "Epoch 1/1\n",
      "50393/50393 [==============================] - 70s 1ms/step - loss: 0.0442 - acc: 0.9806 - val_loss: 0.4342 - val_acc: 0.8886\n",
      "\n",
      "EPOCA 46 :\n",
      "Train on 50393 samples, validate on 12599 samples\n",
      "Epoch 1/1\n",
      "50393/50393 [==============================] - 70s 1ms/step - loss: 0.0463 - acc: 0.9801 - val_loss: 0.4173 - val_acc: 0.8890\n",
      "\n",
      "EPOCA 47 :\n",
      "Train on 50393 samples, validate on 12599 samples\n",
      "Epoch 1/1\n",
      "50393/50393 [==============================] - 70s 1ms/step - loss: 0.0441 - acc: 0.9806 - val_loss: 0.4293 - val_acc: 0.8935\n",
      "\n",
      "EPOCA 48 :\n",
      "Train on 50393 samples, validate on 12599 samples\n",
      "Epoch 1/1\n",
      "50393/50393 [==============================] - 70s 1ms/step - loss: 0.0442 - acc: 0.9798 - val_loss: 0.4340 - val_acc: 0.8886\n",
      "\n",
      "EPOCA 49 :\n",
      "Train on 50393 samples, validate on 12599 samples\n",
      "Epoch 1/1\n",
      "50393/50393 [==============================] - 70s 1ms/step - loss: 0.0429 - acc: 0.9810 - val_loss: 0.4319 - val_acc: 0.8910\n",
      "\n",
      "EPOCA 50 :\n",
      "Train on 50393 samples, validate on 12599 samples\n",
      "Epoch 1/1\n",
      "50393/50393 [==============================] - 70s 1ms/step - loss: 0.0414 - acc: 0.9804 - val_loss: 0.4122 - val_acc: 0.8948\n"
     ]
    }
   ],
   "source": [
    "acc = []\n",
    "vAcc = []\n",
    "epoch = 50\n",
    "for epoch in range(epoch):\n",
    "    print('\\nEPOCA',epoch+1,':')\n",
    "    history = model.fit(x_train,y_train,validation_split=0.2, batch_size=100, epochs=1)   \n",
    "    history = history.history\n",
    "    currentAcc = history['acc'][0]\n",
    "    currentValAcc = history['val_acc'][0]\n",
    "  \n",
    "    epoch = epoch + 1\n",
    "    \n",
    "    if currentValAcc <  (max(vAcc) if len(vAcc) != 0 else 0) - 3:\n",
    "        break\n",
    "    else:\n",
    "        acc.append(currentAcc)\n",
    "        vAcc.append(currentValAcc)\n",
    "        modelJson = model.to_json()\n",
    "        with open(\"model.json\",\"w\") as jsonFile:\n",
    "            jsonFile.write(modelJson)\n",
    "        model.save_weights(\"weights.h5\")\n",
    "        "
   ]
  },
  {
   "cell_type": "code",
   "execution_count": 12,
   "metadata": {},
   "outputs": [
    {
     "data": {
      "image/png": "[encoded data removed]",
      "text/plain": [
       "<Figure size 432x288 with 1 Axes>"
      ]
     },
     "metadata": {
      "needs_background": "light"
     },
     "output_type": "display_data"
    }
   ],
   "source": [
    "def drawGraph(acc,vAcc):\n",
    "    plt.plot(acc, label='Set de antrenare' )\n",
    "    plt.plot(vAcc, label='Set de validare')\n",
    "    plt.grid()\n",
    "    plt.xlabel('Epoci')\n",
    "    plt.ylabel('Acuratete')\n",
    "    plt.rcParams.update({'font.size': 10})\n",
    "    plt.legend()\n",
    "    \n",
    "drawGraph(acc,vAcc)"
   ]
  },
  {
   "cell_type": "markdown",
   "metadata": {},
   "source": [
    "# Evaluarea modelului"
   ]
  },
  {
   "cell_type": "code",
   "execution_count": 24,
   "metadata": {},
   "outputs": [
    {
     "name": "stdout",
     "output_type": "stream",
     "text": [
      "62992/62992 [==============================] - 23s 366us/step\n"
     ]
    }
   ],
   "source": [
    "loss, accuracy = model.evaluate(x_train, y_train)"
   ]
  },
  {
   "cell_type": "code",
   "execution_count": 27,
   "metadata": {},
   "outputs": [
    {
     "name": "stdout",
     "output_type": "stream",
     "text": [
      "loss: 0.10865156507606369 \n",
      "accuracy: 0.9672815595631191\n"
     ]
    }
   ],
   "source": [
    "print('loss:',loss,'\\naccuracy:',accuracy)"
   ]
  },
  {
   "cell_type": "markdown",
   "metadata": {},
   "source": [
    "# Load model"
   ]
  },
  {
   "cell_type": "code",
   "execution_count": 35,
   "metadata": {},
   "outputs": [],
   "source": [
    "json = open('model.json','r')\n",
    "loadedModelJson = json.read()\n",
    "json.close()\n",
    "model = model_from_json(loadedModelJson)\n",
    "model.load_weights('weights.h5')"
   ]
  },
  {
   "cell_type": "markdown",
   "metadata": {},
   "source": [
    "# Realizarea de predicții"
   ]
  },
  {
   "cell_type": "code",
   "execution_count": 87,
   "metadata": {},
   "outputs": [],
   "source": [
    "import glob\n",
    "from PIL import Image\n",
    "import substring\n",
    "\n",
    "def loadImage(path):\n",
    "    image = cv2.imread(path, cv2.IMREAD_GRAYSCALE)\n",
    "#     image = cv2.morphologyEx(image,cv2.MORPH_CLOSE,np.ones((4,4),np.uint8))\n",
    "    width = 2\n",
    "    top, bottom, left, right = [width]*4\n",
    "    image = cv2.copyMakeBorder(image, top, bottom, left, right, cv2.BORDER_CONSTANT, value=0)\n",
    "    image = cv2.resize(image,(32,32))\n",
    "    return image\n",
    "\n",
    "filenames = [filename for filename in glob.glob('E:/LICENTA/ocr/server/images/*.png')]\n",
    "\n",
    "images = []\n",
    "codes = []\n",
    "\n",
    "for filename in filenames:\n",
    "    image = loadImage(filename)\n",
    "    images.append(image)\n",
    "    \n",
    "    code = substring.substringByChar(filename, startChar=\"\\\\\", endChar=\".png\")\n",
    "    code = code[1:]\n",
    "    array = code.split('.')\n",
    "    dictionary = {\n",
    "        \"row\" : int(array[0]),\n",
    "        \"word\" : int(array[1]),\n",
    "        \"letter\" : int(array[2])\n",
    "    }\n",
    "    codes.append(dictionary)\n",
    "    \n",
    "images = np.asarray(images)"
   ]
  },
  {
   "cell_type": "code",
   "execution_count": 88,
   "metadata": {},
   "outputs": [],
   "source": [
    "images = images.reshape(len(images), 32, 32,1)\n",
    "predictions = model.predict_classes(images)\n",
    "images = images.reshape(len(images), 32, 32)"
   ]
  },
  {
   "cell_type": "code",
   "execution_count": 89,
   "metadata": {},
   "outputs": [],
   "source": [
    "dictionary = {\n",
    "            0: '0',\n",
    "            1: '1',\n",
    "            2: '2',\n",
    "            3: '3',\n",
    "            4: '4',\n",
    "            5: '5',\n",
    "            6: '6',\n",
    "            7: '7',\n",
    "            8: '8',\n",
    "            9: '9',\n",
    "            10: 'A',\n",
    "            11: 'B',\n",
    "            12: 'C',\n",
    "            13: 'D',\n",
    "            14: 'E',\n",
    "            15: 'F',\n",
    "            16: 'G',\n",
    "            17: 'H',\n",
    "            18: 'I',\n",
    "            19: 'J',\n",
    "            20: 'K',\n",
    "            21: 'L',\n",
    "            22: 'M',\n",
    "            23: 'N',\n",
    "            24: 'O',\n",
    "            25: 'P',\n",
    "            26: 'Q',\n",
    "            27: 'R',\n",
    "            28: 'S',\n",
    "            29: 'T',\n",
    "            30: 'U',\n",
    "            31: 'V',\n",
    "            32: 'W',\n",
    "            33: 'X',\n",
    "            34: 'Y',\n",
    "            35: 'Z',\n",
    "            36: 'a',\n",
    "            37: 'b',\n",
    "            38: 'c',\n",
    "            39: 'd',\n",
    "            40: 'e',\n",
    "            41: 'f',\n",
    "            42: 'g',\n",
    "            43: 'h',\n",
    "            44: 'i',\n",
    "            45: 'j',\n",
    "            46: 'k',\n",
    "            47: 'l',\n",
    "            48: 'm',\n",
    "            49: 'n',\n",
    "            50: 'o',\n",
    "            51: 'p',\n",
    "            52: 'q',\n",
    "            53: 'r',\n",
    "            54: 's',\n",
    "            55: 't',\n",
    "            56: 'u',\n",
    "            57: 'v',\n",
    "            58: 'w',\n",
    "            59: 'x',\n",
    "            60: 'y',\n",
    "            61: 'z',\n",
    "        }"
   ]
  },
  {
   "cell_type": "code",
   "execution_count": 90,
   "metadata": {},
   "outputs": [
    {
     "data": {
      "image/png": "[encoded data removed]",
      "text/plain": [
       "<Figure size 432x288 with 1 Axes>"
      ]
     },
     "metadata": {
      "needs_background": "light"
     },
     "output_type": "display_data"
    }
   ],
   "source": [
    "showImage(images[0],dictionary[predictions[0]])"
   ]
  },
  {
   "cell_type": "code",
   "execution_count": 91,
   "metadata": {},
   "outputs": [],
   "source": [
    "text = \"\"\n",
    "previousRow = 0\n",
    "previousWord = 0\n",
    "\n",
    "for i in range(len(predictions)):\n",
    "    letter = dictionary[predictions[i]]\n",
    "    if codes[i]['row'] != previousRow:\n",
    "        text = text + \"\\n\"\n",
    "        previousRow = codes[i]['row']\n",
    "        previousWord =0\n",
    "    if codes[i]['word'] != previousWord:\n",
    "        text = text + \" \"\n",
    "        previousWord = codes[i]['word']      \n",
    "    text = text + letter\n",
    "array = text.split(\" \")\n",
    "\n",
    "for i in range(len(array)):\n",
    "    if array[i][0].islower():\n",
    "        array[i] = array[i].lower()"
   ]
  },
  {
   "cell_type": "code",
   "execution_count": 92,
   "metadata": {},
   "outputs": [
    {
     "name": "stdout",
     "output_type": "stream",
     "text": [
      "ln C0mputer sCienCej digitab image prOcessing is the use 0f C0mputer ajg0rithms to ped0rm image pr0Cessing On digita1 imagesi As g subCateg0D 0r fiejd of digital\n",
      "signa1 pr0CeSsingj digitaj image pr0Cessing has many Qdvantages over anajOg image pr0CesSingi jt aij0Ws a muCh Wider rgnge Of ajgorithms tO be applied tO the input\n",
      "data and CQn av0id pr0bjems suCh aS the buildfup Of n0iSe qnd siQna1 distOHiOn during prOceSsingi sinCe images are defined over wO dimensi0ns Cperhaps mOreD\n",
      "diq4ital imgq4e prOCessinq4 mav be mOdejed in the f0rm Of mUjtidimensi0nal svstemsd\n"
     ]
    }
   ],
   "source": [
    "print(text)"
   ]
  },
  {
   "cell_type": "code",
   "execution_count": 93,
   "metadata": {},
   "outputs": [
    {
     "name": "stdout",
     "output_type": "stream",
     "text": [
      "ln computer science digital image processing is the use of computer ajg0rithms to ped0rm image processing On digital images As g subcateg0d or field of digital\n",
      "signa1 pr0cessingj digital image processing has many advantages over analog image pr0cessingi jt aij0ws a much Wider range Of algorithms to be applied to the input\n",
      "data and can avoid pr0bjems such as the build-up Of noise and siqna1 distohion during processing since images are defined over wo dimensions perhaps mored\n",
      "diq4ital imgq4e processinq4 may be modejed in the form Of mujtidimensi0nal svstemsd \n"
     ]
    }
   ],
   "source": [
    "from spellchecker import SpellChecker\n",
    "\n",
    "spell = SpellChecker(distance=1)\n",
    "\n",
    "# misspelled = spell.unknown(array)\n",
    "\n",
    "output = \"\"\n",
    "for i in range(len(array)):\n",
    "    output = output + spell.correction(array[i]) + \" \"\n",
    "print(output)"
   ]
  },
  {
   "cell_type": "code",
   "execution_count": null,
   "metadata": {},
   "outputs": [],
   "source": []
  }
 ],
 "metadata": {
  "kernelspec": {
   "display_name": "Python 3",
   "language": "python",
   "name": "python3"
  },
  "language_info": {
   "codemirror_mode": {
    "name": "ipython",
    "version": 3
   },
   "file_extension": ".py",
   "mimetype": "text/x-python",
   "name": "python",
   "nbconvert_exporter": "python",
   "pygments_lexer": "ipython3",
   "version": "3.7.2"
  }
 },
 "nbformat": 4,
 "nbformat_minor": 2
}
